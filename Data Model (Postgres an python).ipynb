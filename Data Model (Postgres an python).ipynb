{
 "cells": [
  {
   "cell_type": "markdown",
   "id": "522c19c8",
   "metadata": {},
   "source": [
    "# Import Librariy"
   ]
  },
  {
   "cell_type": "code",
   "execution_count": 1,
   "id": "14c301a4",
   "metadata": {},
   "outputs": [],
   "source": [
    "import psycopg2\n",
    "import pandas as pd\n"
   ]
  },
  {
   "cell_type": "markdown",
   "id": "72b3e309",
   "metadata": {},
   "source": [
    "# Create Connection"
   ]
  },
  {
   "cell_type": "code",
   "execution_count": 2,
   "id": "3caffa03",
   "metadata": {},
   "outputs": [],
   "source": [
    "try:\n",
    "    conn=psycopg2.connect(\"host=127.0.0.1 dbname=postgres user=postgres password=****\")\n",
    "except psycopg2.Error as e:\n",
    "    print(\" connection failed\")\n",
    "    print(e)"
   ]
  },
  {
   "cell_type": "code",
   "execution_count": 3,
   "id": "1e7789f4",
   "metadata": {},
   "outputs": [],
   "source": [
    "try:\n",
    "    cursor=conn.cursor()\n",
    "except psycopg2.Error as e:\n",
    "    print(\" cursor failed\")\n",
    "    print(e)"
   ]
  },
  {
   "cell_type": "markdown",
   "id": "17b29173",
   "metadata": {},
   "source": [
    "# Set Commit Automatically to make any action "
   ]
  },
  {
   "cell_type": "code",
   "execution_count": 4,
   "id": "6d2d0b82",
   "metadata": {},
   "outputs": [],
   "source": [
    "conn.set_session(autocommit=True)"
   ]
  },
  {
   "cell_type": "markdown",
   "id": "176174ce",
   "metadata": {},
   "source": [
    "# Create Database"
   ]
  },
  {
   "cell_type": "code",
   "execution_count": 5,
   "id": "2effb386",
   "metadata": {},
   "outputs": [
    {
     "name": "stdout",
     "output_type": "stream",
     "text": [
      "database \"mydb\" already exists\n",
      "\n"
     ]
    }
   ],
   "source": [
    "try:\n",
    "    cursor.execute('create database mydb')\n",
    "except psycopg2.Error as e:\n",
    "    print(e)"
   ]
  },
  {
   "cell_type": "markdown",
   "id": "bd91984e",
   "metadata": {},
   "source": [
    "# Close Deafult database and reconnect on new db"
   ]
  },
  {
   "cell_type": "code",
   "execution_count": 6,
   "id": "b2a947fe",
   "metadata": {},
   "outputs": [],
   "source": [
    "try:\n",
    "    conn.close()\n",
    "except psycopg2.Error as e:\n",
    "    print(e)\n",
    "try:\n",
    "    conn=psycopg2.connect(\"host=127.0.0.1 dbname=mydb user=postgres password=******\")\n",
    "except psycopg2.Error as e:\n",
    "    print(\" connection failed\")\n",
    "    print(e)\n",
    "try:\n",
    "    cursor=conn.cursor()\n",
    "except psycopg2.Error as e:\n",
    "    print(\" cursor failed\")\n",
    "    print(e)\n",
    "conn.set_session(autocommit=True)"
   ]
  },
  {
   "cell_type": "markdown",
   "id": "6f1b90ab",
   "metadata": {},
   "source": [
    "# Create Table\n",
    "Student_id \n",
    "\n",
    "Name\n",
    "\n",
    "age\n",
    "\n",
    "gender \n",
    "\n",
    "subject \n",
    "\n",
    "marks"
   ]
  },
  {
   "cell_type": "code",
   "execution_count": 7,
   "id": "8eb5e1a4",
   "metadata": {},
   "outputs": [],
   "source": [
    "try: \n",
    "    cursor.execute(\"CREATE TABLE IF NOT EXISTS students (student_id int, name varchar,\\\n",
    "    age int, gender varchar, subject varchar, marks int);\")\n",
    "except psycopg2.Error as e: \n",
    "    print(\"Error: Issue creating table\")\n",
    "    print (e)"
   ]
  },
  {
   "cell_type": "markdown",
   "id": "18f3face",
   "metadata": {},
   "source": [
    "# Insert Values"
   ]
  },
  {
   "cell_type": "code",
   "execution_count": 8,
   "id": "2553c03a",
   "metadata": {},
   "outputs": [],
   "source": [
    "try: \n",
    "    cursor.execute(\"INSERT INTO students (student_id, name, age, gender, subject, marks) \\\n",
    "                 VALUES (%s, %s, %s, %s, %s, %s)\", \\\n",
    "                 (1, \"Abdo\", 23, \"Male\", \"Python\", 85),\n",
    "                  )\n",
    "except psycopg2.Error as e: \n",
    "    print(\"Error: Inserting Rows\")\n",
    "    print (e)\n",
    "try: \n",
    "    cursor.execute(\"INSERT INTO students (student_id, name, age, gender, subject, marks) \\\n",
    "                 VALUES (%s, %s, %s, %s, %s, %s)\", \\\n",
    "                 (2, \"Mohamed\", 25, \"Male\", \"Java\", 90),\n",
    "                  )\n",
    "except psycopg2.Error as e: \n",
    "    print(\"Error: Inserting Rows\")\n",
    "    print (e)"
   ]
  },
  {
   "cell_type": "code",
   "execution_count": 9,
   "id": "976014bc",
   "metadata": {},
   "outputs": [
    {
     "data": {
      "text/plain": [
       "[(1, 'Raj', 23, 'Male', 'Python', 85),\n",
       " (1, 'Abdo', 23, 'Male', 'Python', 85),\n",
       " (1, 'Abdo', 23, 'Male', 'Python', 85),\n",
       " (2, 'Mohamed', 25, 'Male', 'Java', 90),\n",
       " (1, 'Abdo', 23, 'Male', 'Python', 85),\n",
       " (2, 'Mohamed', 25, 'Male', 'Java', 90),\n",
       " (1, 'Abdo', 23, 'Male', 'Python', 85),\n",
       " (2, 'Mohamed', 25, 'Male', 'Java', 90),\n",
       " (1, 'Abdo', 23, 'Male', 'Python', 85),\n",
       " (2, 'Mohamed', 25, 'Male', 'Java', 90),\n",
       " (1, 'Abdo', 23, 'Male', 'Python', 85),\n",
       " (2, 'Mohamed', 25, 'Male', 'Java', 90),\n",
       " (1, 'Abdo', 23, 'Male', 'Python', 85),\n",
       " (2, 'Mohamed', 25, 'Male', 'Java', 90),\n",
       " (1, 'Abdo', 23, 'Male', 'Python', 85),\n",
       " (2, 'Mohamed', 25, 'Male', 'Java', 90),\n",
       " (1, 'Abdo', 23, 'Male', 'Python', 85),\n",
       " (2, 'Mohamed', 25, 'Male', 'Java', 90),\n",
       " (1, 'Abdo', 23, 'Male', 'Python', 85),\n",
       " (2, 'Mohamed', 25, 'Male', 'Java', 90)]"
      ]
     },
     "execution_count": 9,
     "metadata": {},
     "output_type": "execute_result"
    }
   ],
   "source": [
    "try: \n",
    "    cursor.execute(\"select * from students\"\n",
    "                  )\n",
    "except psycopg2.Error as e: \n",
    "    print(\"Error\")\n",
    "    print (e)\n",
    "row=cursor.fetchall()\n",
    "row"
   ]
  },
  {
   "cell_type": "markdown",
   "id": "29b2b937",
   "metadata": {},
   "source": [
    "# Close cursor and connection"
   ]
  },
  {
   "cell_type": "code",
   "execution_count": 10,
   "id": "f452a56f",
   "metadata": {},
   "outputs": [],
   "source": [
    "cursor.close()\n",
    "conn.close()"
   ]
  },
  {
   "cell_type": "markdown",
   "id": "28e021be",
   "metadata": {},
   "source": [
    "# Function to create database"
   ]
  },
  {
   "cell_type": "code",
   "execution_count": 11,
   "id": "39550139",
   "metadata": {},
   "outputs": [],
   "source": [
    "def createdb():\n",
    "    #connect to deafult database\n",
    "    conn=psycopg2.connect(\"host=127.0.0.1 dbname=postgres user=postgres password=*****\")\n",
    "    conn.set_session(autocommit=True)\n",
    "    \n",
    "    cur=conn.cursor()\n",
    "    \n",
    "    #create db\n",
    "    \n",
    "    cur.execute(\"Drop DATABASE if exists customer\")\n",
    "    cur.execute(\"Create  DATABASE customer\")\n",
    "    \n",
    "    #close deafult db\n",
    "    conn.close()\n",
    "    \n",
    "    #conncet to new db\n",
    "    \n",
    "    conn=psycopg2.connect(\"host=127.0.0.1 dbname=customer user=postgres password=*****\")\n",
    "    cur=conn.cursor()\n",
    "    return cur ,conn"
   ]
  },
  {
   "cell_type": "code",
   "execution_count": 12,
   "id": "22f5ab9a",
   "metadata": {},
   "outputs": [],
   "source": [
    "cur,conn=createdb()"
   ]
  },
  {
   "cell_type": "markdown",
   "id": "aea06706",
   "metadata": {},
   "source": [
    "# Read CSV Data"
   ]
  },
  {
   "cell_type": "code",
   "execution_count": 13,
   "id": "7396ad1c",
   "metadata": {},
   "outputs": [],
   "source": [
    "cuts_df=pd.read_csv('customer.csv')\n",
    "cuts_df=cuts_df.drop(columns='Unnamed: 0')\n"
   ]
  },
  {
   "cell_type": "code",
   "execution_count": 14,
   "id": "c34516ce",
   "metadata": {},
   "outputs": [],
   "source": [
    "new_cust=cuts_df[['order_id','customer_id','employee_id','order_date','required_date',\n",
    "                  'freight','ship_name','ship_address']]"
   ]
  },
  {
   "cell_type": "code",
   "execution_count": 15,
   "id": "f3be1797",
   "metadata": {},
   "outputs": [
    {
     "data": {
      "text/html": [
       "<div>\n",
       "<style scoped>\n",
       "    .dataframe tbody tr th:only-of-type {\n",
       "        vertical-align: middle;\n",
       "    }\n",
       "\n",
       "    .dataframe tbody tr th {\n",
       "        vertical-align: top;\n",
       "    }\n",
       "\n",
       "    .dataframe thead th {\n",
       "        text-align: right;\n",
       "    }\n",
       "</style>\n",
       "<table border=\"1\" class=\"dataframe\">\n",
       "  <thead>\n",
       "    <tr style=\"text-align: right;\">\n",
       "      <th></th>\n",
       "      <th>order_id</th>\n",
       "      <th>customer_id</th>\n",
       "      <th>employee_id</th>\n",
       "      <th>order_date</th>\n",
       "      <th>required_date</th>\n",
       "      <th>freight</th>\n",
       "      <th>ship_name</th>\n",
       "      <th>ship_address</th>\n",
       "    </tr>\n",
       "  </thead>\n",
       "  <tbody>\n",
       "    <tr>\n",
       "      <th>0</th>\n",
       "      <td>10248</td>\n",
       "      <td>VINET</td>\n",
       "      <td>5</td>\n",
       "      <td>1996-07-04</td>\n",
       "      <td>1996-08-01</td>\n",
       "      <td>32.38</td>\n",
       "      <td>Vins et alcools Chevalier</td>\n",
       "      <td>59 rue de l'Abbaye</td>\n",
       "    </tr>\n",
       "    <tr>\n",
       "      <th>1</th>\n",
       "      <td>10249</td>\n",
       "      <td>TOMSP</td>\n",
       "      <td>6</td>\n",
       "      <td>1996-07-05</td>\n",
       "      <td>1996-08-16</td>\n",
       "      <td>11.61</td>\n",
       "      <td>Toms Spezialitäten</td>\n",
       "      <td>Luisenstr. 48</td>\n",
       "    </tr>\n",
       "    <tr>\n",
       "      <th>2</th>\n",
       "      <td>10250</td>\n",
       "      <td>HANAR</td>\n",
       "      <td>4</td>\n",
       "      <td>1996-07-08</td>\n",
       "      <td>1996-08-05</td>\n",
       "      <td>65.83</td>\n",
       "      <td>Hanari Carnes</td>\n",
       "      <td>Rua do Paço, 67</td>\n",
       "    </tr>\n",
       "    <tr>\n",
       "      <th>3</th>\n",
       "      <td>10251</td>\n",
       "      <td>VICTE</td>\n",
       "      <td>3</td>\n",
       "      <td>1996-07-08</td>\n",
       "      <td>1996-08-05</td>\n",
       "      <td>41.34</td>\n",
       "      <td>Victuailles en stock</td>\n",
       "      <td>2, rue du Commerce</td>\n",
       "    </tr>\n",
       "    <tr>\n",
       "      <th>4</th>\n",
       "      <td>10252</td>\n",
       "      <td>SUPRD</td>\n",
       "      <td>4</td>\n",
       "      <td>1996-07-09</td>\n",
       "      <td>1996-08-06</td>\n",
       "      <td>51.30</td>\n",
       "      <td>Suprêmes délices</td>\n",
       "      <td>Boulevard Tirou, 255</td>\n",
       "    </tr>\n",
       "  </tbody>\n",
       "</table>\n",
       "</div>"
      ],
      "text/plain": [
       "   order_id customer_id  employee_id  order_date required_date  freight  \\\n",
       "0     10248       VINET            5  1996-07-04    1996-08-01    32.38   \n",
       "1     10249       TOMSP            6  1996-07-05    1996-08-16    11.61   \n",
       "2     10250       HANAR            4  1996-07-08    1996-08-05    65.83   \n",
       "3     10251       VICTE            3  1996-07-08    1996-08-05    41.34   \n",
       "4     10252       SUPRD            4  1996-07-09    1996-08-06    51.30   \n",
       "\n",
       "                   ship_name          ship_address  \n",
       "0  Vins et alcools Chevalier    59 rue de l'Abbaye  \n",
       "1         Toms Spezialitäten         Luisenstr. 48  \n",
       "2              Hanari Carnes       Rua do Paço, 67  \n",
       "3       Victuailles en stock    2, rue du Commerce  \n",
       "4           Suprêmes délices  Boulevard Tirou, 255  "
      ]
     },
     "execution_count": 15,
     "metadata": {},
     "output_type": "execute_result"
    }
   ],
   "source": [
    "new_cust.head()"
   ]
  },
  {
   "cell_type": "markdown",
   "id": "0fba59e0",
   "metadata": {},
   "source": [
    "# Make Schema"
   ]
  },
  {
   "cell_type": "code",
   "execution_count": 16,
   "id": "d585a50e",
   "metadata": {},
   "outputs": [],
   "source": [
    "custom_table=(\"CREATE TABLE IF NOT EXISTS customer (order_id varchar PRIMARY KEY ,\\\n",
    "               customer_id varchar , \\\n",
    "               employee_id varchar  ,\\\n",
    "                order_date Date  ,\\\n",
    "                required_date Date ,\\\n",
    "                freight int ,\\\n",
    "                ship_name varchar ,\\\n",
    "                ship_address varchar )\")"
   ]
  },
  {
   "cell_type": "code",
   "execution_count": 17,
   "id": "361c788d",
   "metadata": {},
   "outputs": [],
   "source": [
    "cur.execute(custom_table)\n",
    "\n",
    "conn.commit()"
   ]
  },
  {
   "cell_type": "markdown",
   "id": "ecb32269",
   "metadata": {},
   "source": [
    "# Insert Values from csv File"
   ]
  },
  {
   "cell_type": "code",
   "execution_count": 18,
   "id": "ff9756b8",
   "metadata": {},
   "outputs": [],
   "source": [
    "table_insert=(\"Insert into customer (order_id,customer_id,employee_id,order_date,required_date,freight,\\\n",
    "              ship_name,ship_address)\\\n",
    "              Values(%s,%s,%s,%s,%s,%s,%s,%s)\")"
   ]
  },
  {
   "cell_type": "code",
   "execution_count": 19,
   "id": "68af1bc7",
   "metadata": {},
   "outputs": [],
   "source": [
    "for i,row in new_cust.iterrows():\n",
    "    cur.execute(table_insert,list(row))"
   ]
  },
  {
   "cell_type": "code",
   "execution_count": 20,
   "id": "49f5bc45",
   "metadata": {},
   "outputs": [],
   "source": [
    "conn.commit()"
   ]
  }
 ],
 "metadata": {
  "kernelspec": {
   "display_name": "Python 3 (ipykernel)",
   "language": "python",
   "name": "python3"
  },
  "language_info": {
   "codemirror_mode": {
    "name": "ipython",
    "version": 3
   },
   "file_extension": ".py",
   "mimetype": "text/x-python",
   "name": "python",
   "nbconvert_exporter": "python",
   "pygments_lexer": "ipython3",
   "version": "3.9.7"
  }
 },
 "nbformat": 4,
 "nbformat_minor": 5
}
